{
 "cells": [
  {
   "cell_type": "code",
   "execution_count": 1,
   "metadata": {},
   "outputs": [],
   "source": [
    "from PIL import Image, ImageOps\n",
    "import scipy\n",
    "import cv2\n",
    "import binascii\n",
    "import numpy as np\n",
    "import scipy.misc\n",
    "import scipy.cluster\n",
    "import math"
   ]
  },
  {
   "cell_type": "markdown",
   "metadata": {},
   "source": [
    "## part 1"
   ]
  },
  {
   "cell_type": "code",
   "execution_count": 2,
   "metadata": {},
   "outputs": [],
   "source": [
    "def zip(*iterables):\n",
    "    # zip('ABCD', 'xy') --> Ax By\n",
    "    finallist = []\n",
    "    sentinel = object()\n",
    "    iterators = [iter(it) for it in iterables]\n",
    "    while iterators:\n",
    "        result = []\n",
    "        for it in iterators:\n",
    "            elem = next(it, sentinel)\n",
    "            if elem is sentinel:\n",
    "                return finallist\n",
    "            result.append(elem)\n",
    "        finallist.append(result) \n",
    "\n",
    "\n"
   ]
  },
  {
   "cell_type": "code",
   "execution_count": 3,
   "metadata": {},
   "outputs": [],
   "source": [
    "def mostOccuringCol(filename,k1):\n",
    "    img = cv2.imread(filename)\n",
    "    img = cv2.cvtColor(img, cv2.COLOR_BGR2RGB)\n",
    "    colors, count = np.unique(img.reshape(img.shape[0]*img.shape[1],3), axis=0, return_counts=True)\n",
    "    list2 = zip(colors,count)\n",
    "    k = int(k1)\n",
    "    chart = np.zeros((100,1000,3), np.uint8)\n",
    "    start = 0\n",
    "    list2.sort(key = lambda x: x[1])\n",
    "    length = len(list2)\n",
    "    list2 = list2[length-k:length]\n",
    "    count = count[length-k:length]\n",
    "    sumcomp = sum(count)\n",
    "    length = len(list2)\n",
    "    ans = []\n",
    "    for m in range(k):\n",
    "        end = start + (1000/k)\n",
    "        r = int(list2[m][0][0])\n",
    "# print(r,g,b)\n",
    "        g = int(list2[m][0][1])\n",
    "        b = int(list2[m][0][2])\n",
    "        ans.append(r)\n",
    "        ans.append(g)\n",
    "        ans.append(b)\n",
    "\n",
    "    return ans\n",
    "        "
   ]
  },
  {
   "cell_type": "code",
   "execution_count": 4,
   "metadata": {},
   "outputs": [
    {
     "name": "stdout",
     "output_type": "stream",
     "text": [
      "#15ff08\n"
     ]
    }
   ],
   "source": [
    "ans = mostOccuringCol(\"../input_data/fg.jpg\",1)\n",
    "hexcol = binascii.hexlify(bytearray(int(c) for c in ans)).decode('ascii')\n",
    "print('#'+hexcol)"
   ]
  },
  {
   "cell_type": "markdown",
   "metadata": {},
   "source": [
    "## part 2"
   ]
  },
  {
   "cell_type": "code",
   "execution_count": 12,
   "metadata": {},
   "outputs": [],
   "source": [
    "    def mergeImage(fgname,bgname):\n",
    "        fg = Image.open(fgname)\n",
    "        bg = Image.open(bgname)\n",
    "        size = bg.size\n",
    "        # print(size)\n",
    "        fg = ImageOps.fit(fg,size, Image.ANTIALIAS)\n",
    "    #     # print(\"ok\")\n",
    "        dom = mostOccuringCol(fgname,1)\n",
    "        # print(dom)\n",
    "        w = bg.size[0]\n",
    "        h = bg.size[1]\n",
    "        final = np.zeros([h,w,3],dtype=np.uint8)\n",
    "\n",
    "\n",
    "        # fg_pix = list(fg.getdata())\n",
    "    # bgValues = list(bg.getdata())\n",
    "        fgValues = fg.load()\n",
    "        bgValues = bg.load()\n",
    "\n",
    "        domTuple = (int(round(dom[0])),int(round(dom[1])),int(round(dom[2])))\n",
    "        # print(domTuple)\n",
    "        # print(fgValues[2,3][2])\n",
    "\n",
    "        for i in range(h):\n",
    "            for j in range(w): #fgValues[j,i][0] <= 50 and fgValues[j,i][1]>= 150 and fgValues[j,i][2]<= 50\n",
    "                if(abs(fgValues[j,i][0] - domTuple[0])<=15 and abs(fgValues[j,i][1] - domTuple[1])<=15 and abs(fgValues[j,i][2] - domTuple[2])<=15 ): #\n",
    "                    final[i,j] = bgValues[j,i]\n",
    "                else:\n",
    "                    final[i,j] = fgValues[j,i]\n",
    "\n",
    "        finalImage = Image.fromarray(final)\n",
    "        return finalImage"
   ]
  },
  {
   "cell_type": "code",
   "execution_count": 13,
   "metadata": {},
   "outputs": [],
   "source": [
    "fgname = \"../input_data/fg.jpg\"\n",
    "bgname = \"../input_data/bg.jpg\"\n",
    "img = mergeImage(fgname,bgname)\n",
    "img.show()"
   ]
  },
  {
   "cell_type": "markdown",
   "metadata": {},
   "source": [
    "## part 3"
   ]
  },
  {
   "cell_type": "code",
   "execution_count": 14,
   "metadata": {},
   "outputs": [],
   "source": [
    "fgname = \"../input_data/fg1.jpg\"\n",
    "bgname = \"../input_data/bg1.jpg\"\n",
    "img = mergeImage(fgname,bgname)\n",
    "img.show()"
   ]
  },
  {
   "cell_type": "code",
   "execution_count": 15,
   "metadata": {},
   "outputs": [],
   "source": [
    "fgname = \"../input_data/fg2.jpg\"\n",
    "bgname = \"../input_data/bg2.jpeg\"\n",
    "img = mergeImage(fgname,bgname)\n",
    "img.show()"
   ]
  },
  {
   "cell_type": "code",
   "execution_count": null,
   "metadata": {},
   "outputs": [],
   "source": []
  }
 ],
 "metadata": {
  "kernelspec": {
   "display_name": "Python 3",
   "language": "python",
   "name": "python3"
  },
  "language_info": {
   "codemirror_mode": {
    "name": "ipython",
    "version": 3
   },
   "file_extension": ".py",
   "mimetype": "text/x-python",
   "name": "python",
   "nbconvert_exporter": "python",
   "pygments_lexer": "ipython3",
   "version": "3.5.2"
  }
 },
 "nbformat": 4,
 "nbformat_minor": 2
}
